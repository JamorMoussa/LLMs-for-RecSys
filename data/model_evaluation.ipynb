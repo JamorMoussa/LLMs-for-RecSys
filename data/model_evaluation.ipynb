{
 "cells": [
  {
   "cell_type": "code",
   "execution_count": 1,
   "metadata": {},
   "outputs": [],
   "source": [
    "import pandas as pd"
   ]
  },
  {
   "cell_type": "code",
   "execution_count": 2,
   "metadata": {},
   "outputs": [],
   "source": [
    "PATH_MODEL_RESULTS = \"data/output/recsys-data-with-response.json\""
   ]
  },
  {
   "cell_type": "code",
   "execution_count": 3,
   "metadata": {},
   "outputs": [
    {
     "data": {
      "text/html": [
       "<div>\n",
       "<style scoped>\n",
       "    .dataframe tbody tr th:only-of-type {\n",
       "        vertical-align: middle;\n",
       "    }\n",
       "\n",
       "    .dataframe tbody tr th {\n",
       "        vertical-align: top;\n",
       "    }\n",
       "\n",
       "    .dataframe thead th {\n",
       "        text-align: right;\n",
       "    }\n",
       "</style>\n",
       "<table border=\"1\" class=\"dataframe\">\n",
       "  <thead>\n",
       "    <tr style=\"text-align: right;\">\n",
       "      <th></th>\n",
       "      <th>input</th>\n",
       "      <th>output</th>\n",
       "      <th>instruction</th>\n",
       "      <th>model_response</th>\n",
       "    </tr>\n",
       "  </thead>\n",
       "  <tbody>\n",
       "    <tr>\n",
       "      <th>0</th>\n",
       "      <td>&lt;|user_AEFIWG4CQVZRPGR473XNHIDCY4UA|&gt;</td>\n",
       "      <td>&lt;|item_B09QPY591F|&gt;</td>\n",
       "      <td>Given a user review and a set of item details,...</td>\n",
       "      <td>Item \\n&lt;|item_B079Y9Y9Y|&gt;</td>\n",
       "    </tr>\n",
       "    <tr>\n",
       "      <th>1</th>\n",
       "      <td>&lt;|user_AG3AUNM7YMLU4WHK7G5MSG5CZRRQ|&gt;</td>\n",
       "      <td>&lt;|item_B092ZDD2HH|&gt;</td>\n",
       "      <td>Given a user review and a set of item details,...</td>\n",
       "      <td>Item \\n&lt;|item_B07PY9Y8|&gt;</td>\n",
       "    </tr>\n",
       "    <tr>\n",
       "      <th>2</th>\n",
       "      <td>&lt;|user_AHEWUQN7KSNFXW7N47MS247MASQQ|&gt;</td>\n",
       "      <td>&lt;|item_B08TN1DZTK|&gt;</td>\n",
       "      <td>Given a user review and a set of item details,...</td>\n",
       "      <td>Item \\n&lt;|item_B07PY499|&gt;</td>\n",
       "    </tr>\n",
       "    <tr>\n",
       "      <th>3</th>\n",
       "      <td>&lt;|user_AGI3S2FGSZ27VUUQZKMXJLXW445A|&gt;</td>\n",
       "      <td>&lt;|item_B087GDM1W1|&gt;</td>\n",
       "      <td>Given a user review and a set of item details,...</td>\n",
       "      <td>Item \\n&lt;|item_B07PY499|&gt;</td>\n",
       "    </tr>\n",
       "    <tr>\n",
       "      <th>4</th>\n",
       "      <td>&lt;|user_AEQ2VRHBJBSUUMRDVFKPCB7MPLFQ|&gt;</td>\n",
       "      <td>&lt;|item_B09QRZMDHC|&gt;</td>\n",
       "      <td>Given a user review and a set of item details,...</td>\n",
       "      <td>Item \\n&lt;|item_B079YQ7Y499|&gt;</td>\n",
       "    </tr>\n",
       "  </tbody>\n",
       "</table>\n",
       "</div>"
      ],
      "text/plain": [
       "                                   input               output  \\\n",
       "0  <|user_AEFIWG4CQVZRPGR473XNHIDCY4UA|>  <|item_B09QPY591F|>   \n",
       "1  <|user_AG3AUNM7YMLU4WHK7G5MSG5CZRRQ|>  <|item_B092ZDD2HH|>   \n",
       "2  <|user_AHEWUQN7KSNFXW7N47MS247MASQQ|>  <|item_B08TN1DZTK|>   \n",
       "3  <|user_AGI3S2FGSZ27VUUQZKMXJLXW445A|>  <|item_B087GDM1W1|>   \n",
       "4  <|user_AEQ2VRHBJBSUUMRDVFKPCB7MPLFQ|>  <|item_B09QRZMDHC|>   \n",
       "\n",
       "                                         instruction  \\\n",
       "0  Given a user review and a set of item details,...   \n",
       "1  Given a user review and a set of item details,...   \n",
       "2  Given a user review and a set of item details,...   \n",
       "3  Given a user review and a set of item details,...   \n",
       "4  Given a user review and a set of item details,...   \n",
       "\n",
       "                model_response  \n",
       "0    Item \\n<|item_B079Y9Y9Y|>  \n",
       "1     Item \\n<|item_B07PY9Y8|>  \n",
       "2     Item \\n<|item_B07PY499|>  \n",
       "3     Item \\n<|item_B07PY499|>  \n",
       "4  Item \\n<|item_B079YQ7Y499|>  "
      ]
     },
     "execution_count": 3,
     "metadata": {},
     "output_type": "execute_result"
    }
   ],
   "source": [
    "df = pd.read_json(PATH_MODEL_RESULTS)\n",
    "df.head()"
   ]
  },
  {
   "cell_type": "code",
   "execution_count": 4,
   "metadata": {},
   "outputs": [],
   "source": [
    "model_response = df[\"model_response\"].str.split(\"\\n\", n=1, expand=True)"
   ]
  },
  {
   "cell_type": "code",
   "execution_count": 6,
   "metadata": {},
   "outputs": [
    {
     "data": {
      "text/html": [
       "<div>\n",
       "<style scoped>\n",
       "    .dataframe tbody tr th:only-of-type {\n",
       "        vertical-align: middle;\n",
       "    }\n",
       "\n",
       "    .dataframe tbody tr th {\n",
       "        vertical-align: top;\n",
       "    }\n",
       "\n",
       "    .dataframe thead th {\n",
       "        text-align: right;\n",
       "    }\n",
       "</style>\n",
       "<table border=\"1\" class=\"dataframe\">\n",
       "  <thead>\n",
       "    <tr style=\"text-align: right;\">\n",
       "      <th></th>\n",
       "      <th>output</th>\n",
       "      <th>model_response</th>\n",
       "    </tr>\n",
       "  </thead>\n",
       "  <tbody>\n",
       "    <tr>\n",
       "      <th>0</th>\n",
       "      <td>&lt;|item_B09QPY591F|&gt;</td>\n",
       "      <td>&lt;|item_B079Y9Y9Y|&gt;</td>\n",
       "    </tr>\n",
       "    <tr>\n",
       "      <th>1</th>\n",
       "      <td>&lt;|item_B092ZDD2HH|&gt;</td>\n",
       "      <td>&lt;|item_B07PY9Y8|&gt;</td>\n",
       "    </tr>\n",
       "    <tr>\n",
       "      <th>2</th>\n",
       "      <td>&lt;|item_B08TN1DZTK|&gt;</td>\n",
       "      <td>&lt;|item_B07PY499|&gt;</td>\n",
       "    </tr>\n",
       "    <tr>\n",
       "      <th>3</th>\n",
       "      <td>&lt;|item_B087GDM1W1|&gt;</td>\n",
       "      <td>&lt;|item_B07PY499|&gt;</td>\n",
       "    </tr>\n",
       "    <tr>\n",
       "      <th>4</th>\n",
       "      <td>&lt;|item_B09QRZMDHC|&gt;</td>\n",
       "      <td>&lt;|item_B079YQ7Y499|&gt;</td>\n",
       "    </tr>\n",
       "  </tbody>\n",
       "</table>\n",
       "</div>"
      ],
      "text/plain": [
       "                output        model_response\n",
       "0  <|item_B09QPY591F|>    <|item_B079Y9Y9Y|>\n",
       "1  <|item_B092ZDD2HH|>     <|item_B07PY9Y8|>\n",
       "2  <|item_B08TN1DZTK|>     <|item_B07PY499|>\n",
       "3  <|item_B087GDM1W1|>     <|item_B07PY499|>\n",
       "4  <|item_B09QRZMDHC|>  <|item_B079YQ7Y499|>"
      ]
     },
     "execution_count": 6,
     "metadata": {},
     "output_type": "execute_result"
    }
   ],
   "source": [
    "\n",
    "df[\"model_response\"] = model_response[1]\n",
    "df_model = df[[\"output\", \"model_response\"]]\n",
    "df_model.head()"
   ]
  },
  {
   "cell_type": "code",
   "execution_count": 7,
   "metadata": {},
   "outputs": [
    {
     "name": "stdout",
     "output_type": "stream",
     "text": [
      "Accuracy 0.0\n"
     ]
    }
   ],
   "source": [
    "print(\"Accuracy\", 100 * df_model.query(\"output == model_response\").shape[0]/df_model.shape[0])"
   ]
  },
  {
   "cell_type": "code",
   "execution_count": 8,
   "metadata": {},
   "outputs": [
    {
     "data": {
      "text/html": [
       "<div>\n",
       "<style scoped>\n",
       "    .dataframe tbody tr th:only-of-type {\n",
       "        vertical-align: middle;\n",
       "    }\n",
       "\n",
       "    .dataframe tbody tr th {\n",
       "        vertical-align: top;\n",
       "    }\n",
       "\n",
       "    .dataframe thead th {\n",
       "        text-align: right;\n",
       "    }\n",
       "</style>\n",
       "<table border=\"1\" class=\"dataframe\">\n",
       "  <thead>\n",
       "    <tr style=\"text-align: right;\">\n",
       "      <th></th>\n",
       "      <th>output</th>\n",
       "      <th>model_response</th>\n",
       "    </tr>\n",
       "  </thead>\n",
       "  <tbody>\n",
       "  </tbody>\n",
       "</table>\n",
       "</div>"
      ],
      "text/plain": [
       "Empty DataFrame\n",
       "Columns: [output, model_response]\n",
       "Index: []"
      ]
     },
     "execution_count": 8,
     "metadata": {},
     "output_type": "execute_result"
    }
   ],
   "source": [
    "df_model.query(\"output == model_response\")"
   ]
  },
  {
   "cell_type": "code",
   "execution_count": 9,
   "metadata": {},
   "outputs": [
    {
     "data": {
      "text/html": [
       "<div>\n",
       "<style scoped>\n",
       "    .dataframe tbody tr th:only-of-type {\n",
       "        vertical-align: middle;\n",
       "    }\n",
       "\n",
       "    .dataframe tbody tr th {\n",
       "        vertical-align: top;\n",
       "    }\n",
       "\n",
       "    .dataframe thead th {\n",
       "        text-align: right;\n",
       "    }\n",
       "</style>\n",
       "<table border=\"1\" class=\"dataframe\">\n",
       "  <thead>\n",
       "    <tr style=\"text-align: right;\">\n",
       "      <th></th>\n",
       "      <th>output</th>\n",
       "      <th>model_response</th>\n",
       "    </tr>\n",
       "  </thead>\n",
       "  <tbody>\n",
       "    <tr>\n",
       "      <th>199</th>\n",
       "      <td>&lt;|item_B09P55VZFT|&gt;</td>\n",
       "      <td>&lt;|item_B07PY499|&gt;</td>\n",
       "    </tr>\n",
       "    <tr>\n",
       "      <th>200</th>\n",
       "      <td>&lt;|item_B08FXTQHYF|&gt;</td>\n",
       "      <td>&lt;|item_B079Y9Y8|&gt;</td>\n",
       "    </tr>\n",
       "    <tr>\n",
       "      <th>201</th>\n",
       "      <td>&lt;|item_B00UXG4WR8|&gt;</td>\n",
       "      <td>&lt;|item_B079YQY499|&gt;</td>\n",
       "    </tr>\n",
       "    <tr>\n",
       "      <th>202</th>\n",
       "      <td>&lt;|item_B0BHVBRK6H|&gt;</td>\n",
       "      <td>&lt;|item_B079YQ7Y8|&gt;</td>\n",
       "    </tr>\n",
       "    <tr>\n",
       "      <th>203</th>\n",
       "      <td>&lt;|item_B084H2MXY7|&gt;</td>\n",
       "      <td>&lt;|item_B07PY499|&gt;</td>\n",
       "    </tr>\n",
       "  </tbody>\n",
       "</table>\n",
       "</div>"
      ],
      "text/plain": [
       "                  output       model_response\n",
       "199  <|item_B09P55VZFT|>    <|item_B07PY499|>\n",
       "200  <|item_B08FXTQHYF|>    <|item_B079Y9Y8|>\n",
       "201  <|item_B00UXG4WR8|>  <|item_B079YQY499|>\n",
       "202  <|item_B0BHVBRK6H|>   <|item_B079YQ7Y8|>\n",
       "203  <|item_B084H2MXY7|>    <|item_B07PY499|>"
      ]
     },
     "execution_count": 9,
     "metadata": {},
     "output_type": "execute_result"
    }
   ],
   "source": [
    "df_model.tail()"
   ]
  },
  {
   "cell_type": "code",
   "execution_count": null,
   "metadata": {},
   "outputs": [],
   "source": []
  }
 ],
 "metadata": {
  "language_info": {
   "name": "python"
  }
 },
 "nbformat": 4,
 "nbformat_minor": 2
}
